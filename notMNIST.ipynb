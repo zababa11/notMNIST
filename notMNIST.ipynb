{
 "cells": [
  {
   "cell_type": "code",
   "execution_count": 112,
   "metadata": {
    "collapsed": true
   },
   "outputs": [],
   "source": [
    "# These are all the modules we'll be using later. Make sure you can import them\n",
    "# before proceeding further.\n",
    "from __future__ import print_function\n",
    "import matplotlib.pyplot as plt\n",
    "import numpy as np\n",
    "import os\n",
    "import sys\n",
    "import tarfile\n",
    "from IPython.display import display, Image, FileLink\n",
    "from scipy import ndimage\n",
    "from sklearn.linear_model import LogisticRegression\n",
    "from six.moves.urllib.request import urlretrieve\n",
    "from six.moves import cPickle as pickle\n",
    "\n",
    "# Config the matplotlib backend as plotting inline in IPython\n",
    "%matplotlib inline"
   ]
  },
  {
   "cell_type": "code",
   "execution_count": 113,
   "metadata": {
    "collapsed": false
   },
   "outputs": [
    {
     "name": "stdout",
     "output_type": "stream",
     "text": [
      "Found and verified .\\notMNIST_large.tar.gz\n",
      "Found and verified .\\notMNIST_small.tar.gz\n"
     ]
    }
   ],
   "source": [
    "url = 'https://commondatastorage.googleapis.com/books1000/'\n",
    "last_percent_reported = None\n",
    "data_root = '.' # Change me to store data elsewhere\n",
    "\n",
    "def download_progress_hook(count, blockSize, totalSize):\n",
    "  \"\"\"A hook to report the progress of a download. This is mostly intended for users with\n",
    "  slow internet connections. Reports every 5% change in download progress.\n",
    "  \"\"\"\n",
    "  global last_percent_reported\n",
    "  percent = int(count * blockSize * 100 / totalSize)\n",
    "\n",
    "  if last_percent_reported != percent:\n",
    "    if percent % 5 == 0:\n",
    "      sys.stdout.write(\"%s%%\" % percent)\n",
    "      sys.stdout.flush()\n",
    "    else:\n",
    "      sys.stdout.write(\".\")\n",
    "      sys.stdout.flush()\n",
    "      \n",
    "    last_percent_reported = percent\n",
    "        \n",
    "def maybe_download(filename, expected_bytes, force=False):\n",
    "  \"\"\"Download a file if not present, and make sure it's the right size.\"\"\"\n",
    "  dest_filename = os.path.join(data_root, filename)\n",
    "  if force or not os.path.exists(dest_filename):\n",
    "    print('Attempting to download:', filename) \n",
    "    filename, _ = urlretrieve(url + filename, dest_filename, reporthook=download_progress_hook)\n",
    "    print('\\nDownload Complete!')\n",
    "  statinfo = os.stat(dest_filename)\n",
    "  if statinfo.st_size == expected_bytes:\n",
    "    print('Found and verified', dest_filename)\n",
    "  else:\n",
    "    raise Exception(\n",
    "      'Failed to verify ' + dest_filename + '. Can you get to it with a browser?')\n",
    "  return dest_filename\n",
    "\n",
    "train_filename = maybe_download('notMNIST_large.tar.gz', 247336696)\n",
    "test_filename = maybe_download('notMNIST_small.tar.gz', 8458043)"
   ]
  },
  {
   "cell_type": "code",
   "execution_count": 114,
   "metadata": {
    "collapsed": false
   },
   "outputs": [
    {
     "name": "stdout",
     "output_type": "stream",
     "text": [
      ".\\notMNIST_large already present - Skipping extraction of .\\notMNIST_large.tar.gz.\n",
      "['.\\\\notMNIST_large\\\\A', '.\\\\notMNIST_large\\\\B', '.\\\\notMNIST_large\\\\C', '.\\\\notMNIST_large\\\\D', '.\\\\notMNIST_large\\\\E', '.\\\\notMNIST_large\\\\F', '.\\\\notMNIST_large\\\\G', '.\\\\notMNIST_large\\\\H', '.\\\\notMNIST_large\\\\I', '.\\\\notMNIST_large\\\\J']\n",
      ".\\notMNIST_small already present - Skipping extraction of .\\notMNIST_small.tar.gz.\n",
      "['.\\\\notMNIST_small\\\\A', '.\\\\notMNIST_small\\\\B', '.\\\\notMNIST_small\\\\C', '.\\\\notMNIST_small\\\\D', '.\\\\notMNIST_small\\\\E', '.\\\\notMNIST_small\\\\F', '.\\\\notMNIST_small\\\\G', '.\\\\notMNIST_small\\\\H', '.\\\\notMNIST_small\\\\I', '.\\\\notMNIST_small\\\\J']\n"
     ]
    }
   ],
   "source": [
    "num_classes = 10\n",
    "np.random.seed(133)\n",
    "\n",
    "def maybe_extract(filename, force=False):\n",
    "  root = os.path.splitext(os.path.splitext(filename)[0])[0]  # remove .tar.gz\n",
    "  if os.path.isdir(root) and not force:\n",
    "    # You may override by setting force=True.\n",
    "    print('%s already present - Skipping extraction of %s.' % (root, filename))\n",
    "  else:\n",
    "    print('Extracting data for %s. This may take a while. Please wait.' % root)\n",
    "    tar = tarfile.open(filename)\n",
    "    sys.stdout.flush()\n",
    "    tar.extractall(data_root)\n",
    "    tar.close()\n",
    "  data_folders = [\n",
    "    os.path.join(root, d) for d in sorted(os.listdir(root))\n",
    "    if os.path.isdir(os.path.join(root, d))]\n",
    "  if len(data_folders) != num_classes:\n",
    "    raise Exception(\n",
    "      'Expected %d folders, one per class. Found %d instead.' % (\n",
    "        num_classes, len(data_folders)))\n",
    "  print(data_folders)\n",
    "  return data_folders\n",
    "  \n",
    "train_folders = maybe_extract(train_filename)\n",
    "test_folders = maybe_extract(test_filename)"
   ]
  },
  {
   "cell_type": "markdown",
   "metadata": {},
   "source": [
    "# Problem 1"
   ]
  },
  {
   "cell_type": "code",
   "execution_count": 115,
   "metadata": {
    "collapsed": false,
    "scrolled": true
   },
   "outputs": [
    {
     "data": {
      "text/html": [
       "<a href='.\\notMNIST_large\\A\\Q29uY29yZGVCUS1NZWRpdW0ub3Rm.png' target='_blank'>.\\notMNIST_large\\A\\Q29uY29yZGVCUS1NZWRpdW0ub3Rm.png</a><br>"
      ],
      "text/plain": [
       "C:\\Users\\irdi1\\Desktop\\thesis-work\\UdacityDL\\L1\\Assignment 1\\notMNIST_large\\A\\Q29uY29yZGVCUS1NZWRpdW0ub3Rm.png"
      ]
     },
     "metadata": {},
     "output_type": "display_data"
    }
   ],
   "source": [
    "local_file = FileLink('.\\\\notMNIST_large\\\\A\\\\Q29uY29yZGVCUS1NZWRpdW0ub3Rm.png')\n",
    "display(local_file)"
   ]
  },
  {
   "cell_type": "code",
   "execution_count": 116,
   "metadata": {
    "collapsed": false
   },
   "outputs": [
    {
     "name": "stdout",
     "output_type": "stream",
     "text": [
      ".\\notMNIST_large\\A.pickle already present - Skipping pickling.\n",
      ".\\notMNIST_large\\B.pickle already present - Skipping pickling.\n",
      ".\\notMNIST_large\\C.pickle already present - Skipping pickling.\n",
      ".\\notMNIST_large\\D.pickle already present - Skipping pickling.\n",
      ".\\notMNIST_large\\E.pickle already present - Skipping pickling.\n",
      ".\\notMNIST_large\\F.pickle already present - Skipping pickling.\n",
      ".\\notMNIST_large\\G.pickle already present - Skipping pickling.\n",
      ".\\notMNIST_large\\H.pickle already present - Skipping pickling.\n",
      ".\\notMNIST_large\\I.pickle already present - Skipping pickling.\n",
      ".\\notMNIST_large\\J.pickle already present - Skipping pickling.\n",
      ".\\notMNIST_small\\A.pickle already present - Skipping pickling.\n",
      ".\\notMNIST_small\\B.pickle already present - Skipping pickling.\n",
      ".\\notMNIST_small\\C.pickle already present - Skipping pickling.\n",
      ".\\notMNIST_small\\D.pickle already present - Skipping pickling.\n",
      ".\\notMNIST_small\\E.pickle already present - Skipping pickling.\n",
      ".\\notMNIST_small\\F.pickle already present - Skipping pickling.\n",
      ".\\notMNIST_small\\G.pickle already present - Skipping pickling.\n",
      ".\\notMNIST_small\\H.pickle already present - Skipping pickling.\n",
      ".\\notMNIST_small\\I.pickle already present - Skipping pickling.\n",
      ".\\notMNIST_small\\J.pickle already present - Skipping pickling.\n"
     ]
    }
   ],
   "source": [
    "image_size = 28  # Pixel width and height.\n",
    "pixel_depth = 255.0  # Number of levels per pixel.\n",
    "\n",
    "def load_letter(folder, min_num_images):\n",
    "  \"\"\"Load the data for a single letter label.\"\"\"\n",
    "  image_files = os.listdir(folder)\n",
    "  dataset = np.ndarray(shape=(len(image_files), image_size, image_size),\n",
    "                         dtype=np.float32)\n",
    "  print(folder)\n",
    "  num_images = 0\n",
    "  for image in image_files:\n",
    "    image_file = os.path.join(folder, image)\n",
    "    try:\n",
    "      image_data = (ndimage.imread(image_file).astype(float) - \n",
    "                    pixel_depth / 2) / pixel_depth\n",
    "      if image_data.shape != (image_size, image_size):\n",
    "        raise Exception('Unexpected image shape: %s' % str(image_data.shape))\n",
    "      dataset[num_images, :, :] = image_data\n",
    "      num_images = num_images + 1\n",
    "    except IOError as e:\n",
    "      print('Could not read:', image_file, ':', e, '- it\\'s ok, skipping.')\n",
    "    \n",
    "  dataset = dataset[0:num_images, :, :]\n",
    "  if num_images < min_num_images:\n",
    "    raise Exception('Many fewer images than expected: %d < %d' %\n",
    "                    (num_images, min_num_images))\n",
    "    \n",
    "  print('Full dataset tensor:', dataset.shape)\n",
    "  print('Mean:', np.mean(dataset))\n",
    "  print('Standard deviation:', np.std(dataset))\n",
    "  return dataset\n",
    "        \n",
    "def maybe_pickle(data_folders, min_num_images_per_class, force=False):\n",
    "  dataset_names = []\n",
    "  for folder in data_folders:\n",
    "    set_filename = folder + '.pickle'\n",
    "    dataset_names.append(set_filename)\n",
    "    if os.path.exists(set_filename) and not force:\n",
    "      # You may override by setting force=True.\n",
    "      print('%s already present - Skipping pickling.' % set_filename)\n",
    "    else:\n",
    "      print('Pickling %s.' % set_filename)\n",
    "      dataset = load_letter(folder, min_num_images_per_class)\n",
    "      try:\n",
    "        with open(set_filename, 'wb') as f:\n",
    "          pickle.dump(dataset, f, pickle.HIGHEST_PROTOCOL)\n",
    "      except Exception as e:\n",
    "        print('Unable to save data to', set_filename, ':', e)\n",
    "  \n",
    "  return dataset_names\n",
    "\n",
    "train_datasets = maybe_pickle(train_folders, 45000)\n",
    "test_datasets = maybe_pickle(test_folders, 1800)"
   ]
  },
  {
   "cell_type": "markdown",
   "metadata": {
    "collapsed": false
   },
   "source": [
    "# Problem 2"
   ]
  },
  {
   "cell_type": "code",
   "execution_count": 117,
   "metadata": {
    "collapsed": false
   },
   "outputs": [
    {
     "name": "stdout",
     "output_type": "stream",
     "text": [
      ".\\notMNIST_large\\A.pickle\n",
      ".\\notMNIST_large\\C.pickle\n",
      ".\\notMNIST_large\\D.pickle\n",
      "(52909, 28, 28)\n",
      "(52912, 28, 28)\n",
      "(52911, 28, 28)\n"
     ]
    }
   ],
   "source": [
    "print(train_datasets[0])\n",
    "print(train_datasets[2])\n",
    "print(train_datasets[3])\n",
    "\n",
    "\n",
    "A = pickle.load( open( train_datasets[0], \"rb\" ) )\n",
    "\n",
    "C = pickle.load( open( train_datasets[2], \"rb\" ) )\n",
    "D = pickle.load( open( train_datasets[3], \"rb\" ) )\n",
    "print(np.shape(A))\n",
    "print(np.shape(C))\n",
    "print(np.shape(D))\n",
    "\n"
   ]
  },
  {
   "cell_type": "code",
   "execution_count": 118,
   "metadata": {
    "collapsed": false
   },
   "outputs": [
    {
     "data": {
      "image/png": "[encoded data removed]",
      "text/plain": [
       "<matplotlib.figure.Figure at 0x250a6b48cf8>"
      ]
     },
     "metadata": {},
     "output_type": "display_data"
    }
   ],
   "source": [
    "imgplot = plt.imshow(A[52])\n"
   ]
  },
  {
   "cell_type": "code",
   "execution_count": 119,
   "metadata": {
    "collapsed": false
   },
   "outputs": [
    {
     "data": {
      "image/png": "[encoded data removed]",
      "text/plain": [
       "<matplotlib.figure.Figure at 0x2509f870358>"
      ]
     },
     "metadata": {},
     "output_type": "display_data"
    }
   ],
   "source": [
    "imgplot1 = plt.imshow(C[3])\n"
   ]
  },
  {
   "cell_type": "code",
   "execution_count": 120,
   "metadata": {
    "collapsed": false
   },
   "outputs": [
    {
     "data": {
      "image/png": "[encoded data removed]",
      "text/plain": [
       "<matplotlib.figure.Figure at 0x2508016d438>"
      ]
     },
     "metadata": {},
     "output_type": "display_data"
    }
   ],
   "source": [
    "imgplot2 = plt.imshow(D[41])"
   ]
  },
  {
   "cell_type": "markdown",
   "metadata": {},
   "source": [
    "# Problem 3"
   ]
  },
  {
   "cell_type": "code",
   "execution_count": 121,
   "metadata": {
    "collapsed": false
   },
   "outputs": [
    {
     "name": "stdout",
     "output_type": "stream",
     "text": [
      "Training: (200000, 28, 28) (200000,)\n",
      "Validation: (10000, 28, 28) (10000,)\n",
      "Testing: (10000, 28, 28) (10000,)\n"
     ]
    }
   ],
   "source": [
    "def make_arrays(nb_rows, img_size):\n",
    "  if nb_rows:\n",
    "    dataset = np.ndarray((nb_rows, img_size, img_size), dtype=np.float32)\n",
    "    labels = np.ndarray(nb_rows, dtype=np.int32)\n",
    "  else:\n",
    "    dataset, labels = None, None\n",
    "  return dataset, labels\n",
    "\n",
    "def merge_datasets(pickle_files, train_size, valid_size=0):\n",
    "  num_classes = len(pickle_files)\n",
    "  valid_dataset, valid_labels = make_arrays(valid_size, image_size)\n",
    "  train_dataset, train_labels = make_arrays(train_size, image_size)\n",
    "  vsize_per_class = valid_size // num_classes\n",
    "  tsize_per_class = train_size // num_classes\n",
    "    \n",
    "  start_v, start_t = 0, 0\n",
    "  end_v, end_t = vsize_per_class, tsize_per_class\n",
    "  end_l = vsize_per_class+tsize_per_class\n",
    "  for label, pickle_file in enumerate(pickle_files):       \n",
    "    try:\n",
    "      with open(pickle_file, 'rb') as f:\n",
    "        letter_set = pickle.load(f)\n",
    "        # let's shuffle the letters to have random validation and training set\n",
    "        np.random.shuffle(letter_set)\n",
    "        if valid_dataset is not None:\n",
    "          valid_letter = letter_set[:vsize_per_class, :, :]\n",
    "          valid_dataset[start_v:end_v, :, :] = valid_letter\n",
    "          valid_labels[start_v:end_v] = label\n",
    "          start_v += vsize_per_class\n",
    "          end_v += vsize_per_class\n",
    "                    \n",
    "        train_letter = letter_set[vsize_per_class:end_l, :, :]\n",
    "        train_dataset[start_t:end_t, :, :] = train_letter\n",
    "        train_labels[start_t:end_t] = label\n",
    "        start_t += tsize_per_class\n",
    "        end_t += tsize_per_class\n",
    "    except Exception as e:\n",
    "      print('Unable to process data from', pickle_file, ':', e)\n",
    "      raise\n",
    "    \n",
    "  return valid_dataset, valid_labels, train_dataset, train_labels\n",
    "            \n",
    "            \n",
    "train_size = 200000\n",
    "valid_size = 10000\n",
    "test_size = 10000\n",
    "\n",
    "valid_dataset, valid_labels, train_dataset, train_labels = merge_datasets(\n",
    "  train_datasets, train_size, valid_size)\n",
    "_, _, test_dataset, test_labels = merge_datasets(test_datasets, test_size)\n",
    "\n",
    "print('Training:', train_dataset.shape, train_labels.shape)\n",
    "print('Validation:', valid_dataset.shape, valid_labels.shape)\n",
    "print('Testing:', test_dataset.shape, test_labels.shape)"
   ]
  },
  {
   "cell_type": "code",
   "execution_count": 122,
   "metadata": {
    "collapsed": true
   },
   "outputs": [],
   "source": [
    "def randomize(dataset, labels):\n",
    "  permutation = np.random.permutation(labels.shape[0])\n",
    "  shuffled_dataset = dataset[permutation,:,:]\n",
    "  shuffled_labels = labels[permutation]\n",
    "  return shuffled_dataset, shuffled_labels\n",
    "train_dataset, train_labels = randomize(train_dataset, train_labels)\n",
    "test_dataset, test_labels = randomize(test_dataset, test_labels)\n",
    "valid_dataset, valid_labels = randomize(valid_dataset, valid_labels)"
   ]
  },
  {
   "cell_type": "markdown",
   "metadata": {},
   "source": [
    "# Problem 4"
   ]
  },
  {
   "cell_type": "code",
   "execution_count": 123,
   "metadata": {
    "collapsed": false
   },
   "outputs": [
    {
     "data": {
      "text/plain": [
       "(200000, 28, 28)"
      ]
     },
     "execution_count": 123,
     "metadata": {},
     "output_type": "execute_result"
    }
   ],
   "source": [
    "np.shape(train_dataset)"
   ]
  },
  {
   "cell_type": "code",
   "execution_count": 124,
   "metadata": {
    "collapsed": false
   },
   "outputs": [
    {
     "name": "stdout",
     "output_type": "stream",
     "text": [
      "5\n"
     ]
    },
    {
     "data": {
      "image/png": "[encoded data removed]",
      "text/plain": [
       "<matplotlib.figure.Figure at 0x25083d219e8>"
      ]
     },
     "metadata": {},
     "output_type": "display_data"
    }
   ],
   "source": [
    "print(train_labels[52])\n",
    "imgplot = plt.imshow(train_dataset[52])"
   ]
  },
  {
   "cell_type": "code",
   "execution_count": 125,
   "metadata": {
    "collapsed": false
   },
   "outputs": [
    {
     "name": "stdout",
     "output_type": "stream",
     "text": [
      "3\n"
     ]
    },
    {
     "data": {
      "image/png": "[encoded data removed]",
      "text/plain": [
       "<matplotlib.figure.Figure at 0x250a6b487f0>"
      ]
     },
     "metadata": {},
     "output_type": "display_data"
    }
   ],
   "source": [
    "print(train_labels[200])\n",
    "imgplot = plt.imshow(train_dataset[200])"
   ]
  },
  {
   "cell_type": "code",
   "execution_count": 126,
   "metadata": {
    "collapsed": false
   },
   "outputs": [
    {
     "name": "stdout",
     "output_type": "stream",
     "text": [
      "[[-0.5        -0.5        -0.5        -0.5        -0.5        -0.49607843\n",
      "  -0.48823529 -0.5        -0.5        -0.44509804 -0.22156863  0.04117647\n",
      "   0.23333333  0.40196079  0.5         0.5         0.5         0.44509804\n",
      "   0.32745099  0.20980392  0.06078431 -0.17843138 -0.39411765 -0.5        -0.5\n",
      "  -0.5        -0.5        -0.5       ]\n",
      " [-0.5        -0.5        -0.5        -0.5        -0.49215686 -0.5        -0.5\n",
      "  -0.38627452  0.01372549  0.34313726  0.5         0.5         0.5\n",
      "   0.39411765  0.30784315  0.28823531  0.33137256  0.45294118  0.5         0.5\n",
      "   0.5         0.5         0.41764706  0.1509804  -0.30392158 -0.5\n",
      "  -0.49215686 -0.5       ]\n",
      " [-0.5        -0.5        -0.5        -0.49215686 -0.5        -0.48431373\n",
      "  -0.01372549  0.43333334  0.5         0.5         0.37450981 -0.00196078\n",
      "  -0.30000001 -0.45294118 -0.5        -0.5        -0.49215686 -0.37843138\n",
      "  -0.14313726  0.2764706   0.5         0.49215686  0.5         0.5\n",
      "   0.05294118 -0.5        -0.48431373 -0.5       ]\n",
      " [-0.5        -0.5        -0.49215686 -0.5        -0.39411765  0.24509804\n",
      "   0.5         0.5         0.5         0.0882353  -0.42941177 -0.5        -0.5\n",
      "  -0.5        -0.49607843 -0.49215686 -0.5        -0.5        -0.5\n",
      "  -0.49215686 -0.02156863  0.5         0.47647059  0.48823529  0.07647059\n",
      "  -0.5        -0.48431373 -0.5       ]\n",
      " [-0.5        -0.49215686 -0.5        -0.37058824  0.3509804   0.5\n",
      "   0.47254902  0.5        -0.01764706 -0.5        -0.5        -0.48431373\n",
      "  -0.49215686 -0.49607843 -0.5        -0.5        -0.49607843 -0.49215686\n",
      "  -0.48823529 -0.49215686 -0.5        -0.06470589  0.5         0.5\n",
      "   0.13529412 -0.5        -0.48431373 -0.5       ]\n",
      " [-0.49607843 -0.49215686 -0.43725491  0.31960785  0.5         0.47254902\n",
      "   0.5         0.12352941 -0.5        -0.48431373 -0.49215686 -0.5        -0.5\n",
      "  -0.5        -0.5        -0.5        -0.5        -0.5        -0.5\n",
      "  -0.49607843 -0.48039216 -0.5         0.15490197  0.49607843  0.17058824\n",
      "  -0.5        -0.48823529 -0.5       ]\n",
      " [-0.49215686 -0.5         0.13529412  0.5         0.47647059  0.49607843\n",
      "   0.40588236 -0.42941177 -0.49215686 -0.49215686 -0.5        -0.5        -0.5\n",
      "  -0.5        -0.5        -0.5        -0.5        -0.5        -0.5        -0.5\n",
      "  -0.48823529 -0.49607843 -0.36666667  0.5         0.31568629 -0.5\n",
      "  -0.49607843 -0.5       ]\n",
      " [-0.5        -0.24117647  0.5         0.48823529  0.48431373  0.5\n",
      "   0.0254902  -0.5        -0.48431373 -0.5        -0.5        -0.5        -0.5\n",
      "  -0.5        -0.5        -0.5        -0.5        -0.5        -0.5        -0.5\n",
      "  -0.5        -0.49607843 -0.5         0.04117647  0.10392157 -0.5        -0.5\n",
      "  -0.49607843]\n",
      " [-0.5         0.22941177  0.49607843  0.48431373  0.5         0.47254902\n",
      "  -0.33529413 -0.49607843 -0.49215686 -0.5        -0.5        -0.5        -0.5\n",
      "  -0.5        -0.5        -0.5        -0.5        -0.5        -0.5        -0.5\n",
      "  -0.5        -0.5        -0.49607843 -0.5        -0.5        -0.5        -0.5\n",
      "  -0.5       ]\n",
      " [-0.30784315  0.48039216  0.5         0.49215686  0.5         0.3392157\n",
      "  -0.48431373 -0.5        -0.5        -0.5        -0.5        -0.5        -0.5\n",
      "  -0.5        -0.5        -0.5        -0.5        -0.5        -0.5        -0.5\n",
      "  -0.5        -0.5        -0.5        -0.49215686 -0.49607843 -0.5        -0.5\n",
      "  -0.5       ]\n",
      " [ 0.00588235  0.5         0.49215686  0.48823529  0.5         0.13921569\n",
      "  -0.5        -0.49215686 -0.5        -0.5        -0.5        -0.5        -0.5\n",
      "  -0.5        -0.5        -0.5        -0.5        -0.5        -0.5        -0.5\n",
      "  -0.5        -0.5        -0.5        -0.5        -0.5        -0.5        -0.5\n",
      "  -0.5       ]\n",
      " [ 0.2372549   0.5         0.48823529  0.48431373  0.5         0.0372549\n",
      "  -0.5        -0.48823529 -0.5        -0.5        -0.5        -0.5        -0.5\n",
      "  -0.5        -0.5        -0.5        -0.5        -0.5        -0.5        -0.5\n",
      "  -0.5        -0.5        -0.5        -0.5        -0.5        -0.5        -0.5\n",
      "  -0.5       ]\n",
      " [ 0.37843138  0.5         0.49607843  0.48431373  0.5        -0.03333334\n",
      "  -0.5        -0.48431373 -0.5        -0.5        -0.5        -0.5        -0.5\n",
      "  -0.5        -0.48823529 -0.48431373 -0.48431373 -0.48431373 -0.48431373\n",
      "  -0.48431373 -0.48431373 -0.48431373 -0.48431373 -0.48431373 -0.48431373\n",
      "  -0.48431373 -0.48431373 -0.49215686]\n",
      " [ 0.46470588  0.5         0.5         0.48431373  0.5        -0.05686275\n",
      "  -0.5        -0.48431373 -0.5        -0.5        -0.5        -0.5        -0.5\n",
      "  -0.5        -0.5        -0.5        -0.5        -0.5        -0.5        -0.5\n",
      "  -0.5        -0.5        -0.5        -0.5        -0.5        -0.5        -0.5\n",
      "  -0.5       ]\n",
      " [ 0.48823529  0.5         0.5         0.48431373  0.5        -0.00196078\n",
      "  -0.5        -0.48431373 -0.5        -0.5        -0.5        -0.5        -0.5\n",
      "  -0.5        -0.22156863 -0.1509804  -0.1627451  -0.15882353 -0.15882353\n",
      "  -0.1627451  -0.17058824 -0.17058824 -0.17058824 -0.17058824 -0.17058824\n",
      "  -0.18235295 -0.18627451 -0.30000001]\n",
      " [ 0.44509804  0.5         0.5         0.48431373  0.5         0.11568628\n",
      "  -0.5        -0.48823529 -0.5        -0.5        -0.5        -0.5\n",
      "  -0.49607843 -0.5         0.4137255   0.5         0.5         0.5         0.5\n",
      "   0.5         0.5         0.5         0.5         0.5         0.5         0.5\n",
      "   0.5         0.2372549 ]\n",
      " [ 0.34313726  0.5         0.49215686  0.49215686  0.5         0.29607844\n",
      "  -0.5        -0.49607843 -0.5        -0.5        -0.5        -0.5        -0.5\n",
      "  -0.5        -0.1509804  -0.0372549   0.04117647  0.28431374  0.5\n",
      "   0.48039216  0.48431373  0.48431373  0.48431373  0.48039216  0.5\n",
      "   0.32352942  0.0254902  -0.21764706]\n",
      " [ 0.1627451   0.49607843  0.48823529  0.49607843  0.5         0.45686275\n",
      "  -0.37450981 -0.5        -0.49215686 -0.5        -0.5        -0.5        -0.5\n",
      "  -0.5        -0.5        -0.5        -0.5        -0.49607843  0.00980392\n",
      "   0.5         0.49215686  0.5         0.49215686  0.5         0.27254903\n",
      "  -0.44901961 -0.5        -0.5       ]\n",
      " [-0.11568628  0.5         0.49215686  0.5         0.48823529  0.5\n",
      "  -0.08431373 -0.5        -0.48431373 -0.5        -0.5        -0.5        -0.5\n",
      "  -0.5        -0.48431373 -0.48431373 -0.48431373 -0.5        -0.46078432\n",
      "   0.40196079  0.5         0.49215686  0.48823529  0.5        -0.09215686\n",
      "  -0.5        -0.47254902 -0.48823529]\n",
      " [-0.42156863  0.40588236  0.49607843  0.49607843  0.49215686  0.5\n",
      "   0.31568629 -0.48431373 -0.48823529 -0.49607843 -0.5        -0.5        -0.5\n",
      "  -0.5        -0.5        -0.5        -0.5        -0.49607843 -0.49607843\n",
      "   0.30000001  0.5         0.49215686  0.48823529  0.5        -0.17450981\n",
      "  -0.49607843 -0.48823529 -0.5       ]\n",
      " [-0.5         0.00980392  0.5         0.48431373  0.5         0.48823529\n",
      "   0.5        -0.10784314 -0.5        -0.48431373 -0.5        -0.5        -0.5\n",
      "  -0.5        -0.5        -0.5        -0.5        -0.49215686 -0.5\n",
      "   0.28039217  0.5         0.48823529  0.48823529  0.5        -0.2254902\n",
      "  -0.5        -0.48823529 -0.5       ]\n",
      " [-0.49607843 -0.42941177  0.39019608  0.5         0.48823529  0.49607843\n",
      "   0.49215686  0.42156863 -0.36666667 -0.5        -0.48431373 -0.5        -0.5\n",
      "  -0.5        -0.5        -0.5        -0.5        -0.49215686 -0.5\n",
      "   0.28431374  0.5         0.48823529  0.48823529  0.5        -0.24509804\n",
      "  -0.5        -0.48823529 -0.5       ]\n",
      " [-0.48823529 -0.5        -0.22941177  0.49607843  0.48823529  0.49215686\n",
      "   0.49215686  0.5         0.30392158 -0.43333334 -0.5        -0.48039216\n",
      "  -0.49607843 -0.5        -0.5        -0.5        -0.5        -0.49607843\n",
      "  -0.49607843  0.30392158  0.5         0.48823529  0.48823529  0.5\n",
      "  -0.21764706 -0.49215686 -0.48431373 -0.5       ]\n",
      " [-0.5        -0.48823529 -0.5        -0.09607843  0.5         0.5\n",
      "   0.48823529  0.49215686  0.5         0.30392158 -0.34705883 -0.5        -0.5\n",
      "  -0.48431373 -0.48823529 -0.48823529 -0.48823529 -0.48823529 -0.5\n",
      "   0.31568629  0.5         0.49215686  0.48823529  0.5         0.03333334\n",
      "  -0.5        -0.5        -0.5       ]\n",
      " [-0.5        -0.5        -0.48823529 -0.5        -0.12352941  0.46078432\n",
      "   0.5         0.48823529  0.47647059  0.5         0.4254902  -0.05686275\n",
      "  -0.43725491 -0.5        -0.5        -0.5        -0.5        -0.5\n",
      "  -0.38627452  0.43333334  0.49607843  0.49215686  0.49215686  0.48431373\n",
      "   0.47254902  0.18235295 -0.3509804  -0.49607843]\n",
      " [-0.5        -0.5        -0.5        -0.48823529 -0.5        -0.30392158\n",
      "   0.24509804  0.5         0.5         0.5         0.5         0.5\n",
      "   0.37843138  0.10392157 -0.11960784 -0.24117647 -0.2647059  -0.11176471\n",
      "   0.31960785  0.49607843  0.48823529  0.5         0.5         0.5         0.5\n",
      "   0.48823529 -0.2647059  -0.5       ]\n",
      " [-0.5        -0.5        -0.5        -0.5        -0.48823529 -0.5        -0.5\n",
      "  -0.1627451   0.21372549  0.46078432  0.5         0.5         0.5         0.5\n",
      "   0.5         0.5         0.5         0.5         0.5         0.5         0.5\n",
      "   0.49607843  0.36666667  0.16666667 -0.1        -0.40980393 -0.5        -0.5       ]\n",
      " [-0.5        -0.5        -0.5        -0.5        -0.5        -0.49215686\n",
      "  -0.5        -0.5        -0.5        -0.35490197 -0.09607843  0.13137256\n",
      "   0.26862746  0.38235295  0.43725491  0.48039216  0.47254902  0.41764706\n",
      "   0.31176472  0.14705883 -0.06862745 -0.29607844 -0.43725491 -0.5        -0.5\n",
      "  -0.5        -0.49607843 -0.5       ]]\n"
     ]
    },
    {
     "data": {
      "image/png": "[encoded data removed]",
      "text/plain": [
       "<matplotlib.figure.Figure at 0x250a6da8ef0>"
      ]
     },
     "metadata": {},
     "output_type": "display_data"
    }
   ],
   "source": [
    "print(test_dataset[200])\n",
    "imgplot = plt.imshow(test_dataset[200])"
   ]
  },
  {
   "cell_type": "code",
   "execution_count": 127,
   "metadata": {
    "collapsed": false
   },
   "outputs": [
    {
     "data": {
      "text/plain": [
       "(10000, 28, 28)"
      ]
     },
     "execution_count": 127,
     "metadata": {},
     "output_type": "execute_result"
    },
    {
     "data": {
      "image/png": "[encoded data removed]",
      "text/plain": [
       "<matplotlib.figure.Figure at 0x250a6e48f28>"
      ]
     },
     "metadata": {},
     "output_type": "display_data"
    }
   ],
   "source": [
    "imgplot = plt.imshow(valid_dataset[200])\n",
    "np.shape(valid_dataset)"
   ]
  },
  {
   "cell_type": "code",
   "execution_count": 128,
   "metadata": {
    "collapsed": false
   },
   "outputs": [],
   "source": [
    "pickle_file = os.path.join(data_root, 'notMNIST.pickle')\n",
    "\n",
    "try:\n",
    "  f = open(pickle_file, 'wb')\n",
    "  save = {\n",
    "    'train_dataset': train_dataset,\n",
    "    'train_labels': train_labels,\n",
    "    'valid_dataset': valid_dataset,\n",
    "    'valid_labels': valid_labels,\n",
    "    'test_dataset': test_dataset,\n",
    "    'test_labels': test_labels,\n",
    "    }\n",
    "  pickle.dump(save, f, pickle.HIGHEST_PROTOCOL)\n",
    "  f.close()\n",
    "except Exception as e:\n",
    "  print('Unable to save data to', pickle_file, ':', e)\n",
    "  raise"
   ]
  },
  {
   "cell_type": "code",
   "execution_count": 129,
   "metadata": {
    "collapsed": false
   },
   "outputs": [
    {
     "name": "stdout",
     "output_type": "stream",
     "text": [
      "Compressed pickle size: 690800506\n"
     ]
    }
   ],
   "source": [
    "statinfo = os.stat(pickle_file)\n",
    "print('Compressed pickle size:', statinfo.st_size)"
   ]
  },
  {
   "cell_type": "markdown",
   "metadata": {
    "collapsed": true
   },
   "source": [
    "# Problem 5"
   ]
  },
  {
   "cell_type": "code",
   "execution_count": 130,
   "metadata": {
    "collapsed": false
   },
   "outputs": [
    {
     "name": "stdout",
     "output_type": "stream",
     "text": [
      "Number of overlaps between training and test sets: 1153.\n",
      "Number of overlaps between training and validation sets: 953.\n",
      "Number of overlaps between validation and test sets: 55.\n"
     ]
    }
   ],
   "source": [
    "def overlap_indices(images1, images2):\n",
    "    hash1 = set([image1.tobytes() for image1 in images1])\n",
    "    hash2 = set([image2.tobytes() for image2 in images2])\n",
    "    ind_dict = dict((k,i) for i,k in enumerate(hash1))\n",
    "    all_overlaps = set(ind_dict).intersection( hash2)\n",
    "    indices = [ ind_dict[x] for x in all_overlaps ]\n",
    "    return indices\n",
    "\n",
    "i_ts_tr = overlap_indices(test_dataset,train_dataset) \n",
    "i_tr_ts = overlap_indices(train_dataset, test_dataset)    \n",
    "print('Number of overlaps between training and test sets: {}.'.format(len(i_tr_ts)))\n",
    "\n",
    "i_va_tr = overlap_indices(valid_dataset, train_dataset)\n",
    "i_tr_va = overlap_indices(train_dataset, valid_dataset)   \n",
    "print('Number of overlaps between training and validation sets: {}.'.format(len(i_tr_va)))\n",
    "\n",
    "i_ts_va = overlap_indices(test_dataset, valid_dataset)\n",
    "i_va_ts = overlap_indices(valid_dataset, test_dataset) \n",
    "print('Number of overlaps between validation and test sets: {}.'.format(len(i_va_ts)))\n"
   ]
  },
  {
   "cell_type": "code",
   "execution_count": 149,
   "metadata": {
    "collapsed": false
   },
   "outputs": [],
   "source": [
    "sanitized_valid_dataset = np.delete(valid_dataset,i_va_tr,0)\n",
    "sanitized_valid_labels = np.delete(valid_labels,i_va_tr,0)\n",
    "half_sanitized_test_dataset = np.delete(test_dataset,i_ts_tr,0)\n",
    "half_sanitized_test_labels = np.delete(test_labels,i_ts_tr,0)"
   ]
  },
  {
   "cell_type": "code",
   "execution_count": 132,
   "metadata": {
    "collapsed": false
   },
   "outputs": [
    {
     "name": "stdout",
     "output_type": "stream",
     "text": [
      "Number of overlaps between sanitized validation and sanitized test sets: 40.\n"
     ]
    }
   ],
   "source": [
    "i_sts_sva = overlap_indices(half_sanitized_test_dataset, sanitized_valid_dataset)\n",
    "print('Number of overlaps between sanitized validation and sanitized test sets: {}.'.format(len(i_sts_sva)))"
   ]
  },
  {
   "cell_type": "code",
   "execution_count": 150,
   "metadata": {
    "collapsed": false
   },
   "outputs": [],
   "source": [
    "sanitized_test_dataset = np.delete(half_sanitized_test_dataset,i_sts_sva,0)\n",
    "sanitized_test_labels = np.delete(half_sanitized_test_labels,i_sts_sva,0)\n"
   ]
  },
  {
   "cell_type": "markdown",
   "metadata": {},
   "source": [
    "overlap_indices(images1, images2) returns the indices of images1 that are present in images2 as well. These indices are used for sanitizing the validation and test sets.\n"
   ]
  },
  {
   "cell_type": "markdown",
   "metadata": {},
   "source": [
    "# Problem 6"
   ]
  },
  {
   "cell_type": "code",
   "execution_count": 134,
   "metadata": {
    "collapsed": false
   },
   "outputs": [],
   "source": [
    "shape_td = np.shape(train_dataset)\n",
    "shape_va = np.shape(valid_dataset)\n",
    "shape_ts = np.shape(test_dataset)\n",
    "shape_sva = np.shape(sanitized_valid_dataset)\n",
    "shape_sts = np.shape(sanitized_test_dataset)"
   ]
  },
  {
   "cell_type": "code",
   "execution_count": 136,
   "metadata": {
    "collapsed": false
   },
   "outputs": [
    {
     "data": {
      "text/plain": [
       "(10000, 784)"
      ]
     },
     "execution_count": 136,
     "metadata": {},
     "output_type": "execute_result"
    }
   ],
   "source": [
    "\n",
    "train_dataset = np.reshape(train_dataset,(shape_td[0],shape_td[1] * shape_td[2]))\n",
    "valid_dataset = np.reshape(valid_dataset,(shape_va[0],shape_va[1] * shape_va[2]))\n",
    "test_dataset = np.reshape(test_dataset,(shape_ts[0],shape_ts[1] * shape_ts[2]))\n",
    "\n",
    "sanitized_valid_dataset = np.reshape(sanitized_valid_dataset,(shape_sva[0],shape_sva[1] * shape_sva[2]))\n",
    "sanitized_test_dataset = np.reshape(sanitized_test_dataset,(shape_sts[0],shape_sts[1] * shape_sts[2]))\n",
    "np.shape(test_dataset)"
   ]
  },
  {
   "cell_type": "code",
   "execution_count": 152,
   "metadata": {
    "collapsed": false
   },
   "outputs": [
    {
     "name": "stdout",
     "output_type": "stream",
     "text": [
      "0.46\n",
      "0.4\n"
     ]
    }
   ],
   "source": [
    "import sklearn\n",
    "\n",
    "LogRegMod50 = sklearn.linear_model.LogisticRegression()\n",
    "LogRegMod50.fit(train_dataset[:50],train_labels[:50])\n",
    "\n",
    "prediction50 = LogRegMod50.predict(test_dataset[:50])\n",
    "print(sklearn.metrics.accuracy_score(test_labels[:50], prediction50))\n",
    "\n",
    "spred50 = LogRegMod50.predict(sanitized_test_dataset[:50])\n",
    "print(sklearn.metrics.accuracy_score(sanitized_test_labels[:50], spred50))\n"
   ]
  },
  {
   "cell_type": "code",
   "execution_count": 153,
   "metadata": {
    "collapsed": false
   },
   "outputs": [
    {
     "name": "stdout",
     "output_type": "stream",
     "text": [
      "0.64\n",
      "0.65\n"
     ]
    }
   ],
   "source": [
    "LogRegMod100 = sklearn.linear_model.LogisticRegression()\n",
    "LogRegMod100.fit(train_dataset[:100],train_labels[:100])\n",
    "\n",
    "prediction100 = LogRegMod100.predict(test_dataset[:100])\n",
    "print(sklearn.metrics.accuracy_score(test_labels[:100], prediction100))\n",
    "\n",
    "spred100 = LogRegMod100.predict(sanitized_test_dataset[:100])\n",
    "print(sklearn.metrics.accuracy_score(sanitized_test_labels[:100], spred100))\n"
   ]
  },
  {
   "cell_type": "code",
   "execution_count": 155,
   "metadata": {
    "collapsed": false
   },
   "outputs": [
    {
     "name": "stdout",
     "output_type": "stream",
     "text": [
      "0.839\n",
      "0.849\n"
     ]
    }
   ],
   "source": [
    "LogRegMod1000 = sklearn.linear_model.LogisticRegression()\n",
    "LogRegMod1000.fit(train_dataset[:1000],train_labels[:1000])\n",
    "\n",
    "prediction1000 = LogRegMod1000.predict(test_dataset[:1000])\n",
    "print(sklearn.metrics.accuracy_score(test_labels[:1000], prediction1000))\n",
    "\n",
    "spred1000 = LogRegMod1000.predict(sanitized_test_dataset[:1000])\n",
    "print(sklearn.metrics.accuracy_score(sanitized_test_labels[:1000], spred1000))\n"
   ]
  },
  {
   "cell_type": "code",
   "execution_count": 156,
   "metadata": {
    "collapsed": false
   },
   "outputs": [
    {
     "name": "stdout",
     "output_type": "stream",
     "text": [
      "0.8526\n",
      "0.853\n"
     ]
    }
   ],
   "source": [
    "LogRegMod5000 = sklearn.linear_model.LogisticRegression()\n",
    "LogRegMod5000.fit(train_dataset[:5000],train_labels[:5000])\n",
    "\n",
    "prediction5000 = LogRegMod5000.predict(test_dataset[:5000])\n",
    "print(sklearn.metrics.accuracy_score(test_labels[:5000], prediction5000))\n",
    "\n",
    "spred5000 = LogRegMod5000.predict(sanitized_test_dataset[:5000])\n",
    "print(sklearn.metrics.accuracy_score(sanitized_test_labels[:5000], spred5000))\n"
   ]
  },
  {
   "cell_type": "code",
   "execution_count": 157,
   "metadata": {
    "collapsed": false
   },
   "outputs": [
    {
     "name": "stdout",
     "output_type": "stream",
     "text": [
      "0.8933\n",
      "0.894742818213\n"
     ]
    }
   ],
   "source": [
    "LogRegMod= sklearn.linear_model.LogisticRegression()\n",
    "LogRegMod.fit(train_dataset,train_labels)\n",
    "\n",
    "prediction = LogRegMod.predict(test_dataset)\n",
    "print(sklearn.metrics.accuracy_score(test_labels, prediction))\n",
    "\n",
    "spred = LogRegMod.predict(sanitized_test_dataset)\n",
    "print(sklearn.metrics.accuracy_score(sanitized_test_labels, spred))\n"
   ]
  },
  {
   "cell_type": "code",
   "execution_count": null,
   "metadata": {
    "collapsed": true
   },
   "outputs": [],
   "source": []
  }
 ],
 "metadata": {
  "kernelspec": {
   "display_name": "Python 3",
   "language": "python",
   "name": "python3"
  },
  "language_info": {
   "codemirror_mode": {
    "name": "ipython",
    "version": 3
   },
   "file_extension": ".py",
   "mimetype": "text/x-python",
   "name": "python",
   "nbconvert_exporter": "python",
   "pygments_lexer": "ipython3",
   "version": "3.6.0"
  }
 },
 "nbformat": 4,
 "nbformat_minor": 2
}
